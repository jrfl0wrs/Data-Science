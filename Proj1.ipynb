{
 "cells": [
  {
   "cell_type": "markdown",
   "metadata": {
    "id": "gScvzlQUtYXy"
   },
   "source": [
    "Import data as follows:"
   ]
  },
  {
   "cell_type": "code",
   "execution_count": 2,
   "metadata": {
    "id": "BBCweaE4Z6Wd"
   },
   "outputs": [],
   "source": [
    "import numpy as np\n",
    "import pandas as pd\n",
    "import seaborn as sns\n",
    "\n",
    "df = sns.load_dataset(\"penguins\")\n"
   ]
  },
  {
   "cell_type": "markdown",
   "metadata": {
    "id": "ZLC1NhVrttE3"
   },
   "source": [
    "1,  Show Python code in the following code box which lists the number of penguins, broken down by island\n"
   ]
  },
  {
   "cell_type": "code",
   "execution_count": null,
   "metadata": {
    "id": "ygmE7Mfrtyn8"
   },
   "outputs": [],
   "source": [
    "\n"
   ]
  },
  {
   "cell_type": "markdown",
   "metadata": {
    "id": "sX8_gemNvcW6"
   },
   "source": [
    "2.  Show Python code in the following code box which lists the number of penguins, broken down by species and sex"
   ]
  },
  {
   "cell_type": "code",
   "execution_count": null,
   "metadata": {
    "id": "bUwzfpMkvLrU"
   },
   "outputs": [],
   "source": [
    "\n"
   ]
  },
  {
   "cell_type": "markdown",
   "metadata": {
    "id": "cVcEL4zAvtI-"
   },
   "source": [
    "3.  Show Python code in the following code box which lists the mean mass of all of the penguins.  Don't use describe().  Then use describe() and compare your results.\n"
   ]
  },
  {
   "cell_type": "code",
   "execution_count": null,
   "metadata": {
    "id": "Gp_DcfBmvzlK"
   },
   "outputs": [],
   "source": [
    "\n"
   ]
  },
  {
   "cell_type": "markdown",
   "metadata": {
    "id": "OXp1kLLuwkGQ"
   },
   "source": [
    "4.  Show Python code  in the following code box which prints the following statistics of the mass of all of the penguins, broken down by the species:  minimum, median, mean and maximum\n"
   ]
  },
  {
   "cell_type": "code",
   "execution_count": null,
   "metadata": {
    "id": "mKkyE_-bxYmN"
   },
   "outputs": [],
   "source": []
  },
  {
   "cell_type": "markdown",
   "metadata": {
    "id": "LXzboCYk9Zgh"
   },
   "source": [
    "5.  Repeat the above, but sort the list by the minimum weight in ascending order.  Hint:  You may need to figure out exactly what the columns names are to sort by, and will have to do some research on how to do this.\n",
    "\n"
   ]
  },
  {
   "cell_type": "code",
   "execution_count": null,
   "metadata": {
    "id": "LQe9abr29trr"
   },
   "outputs": [],
   "source": [
    "\n"
   ]
  }
 ],
 "metadata": {
  "colab": {
   "authorship_tag": "ABX9TyOywPV5OX+8TOhwdMV0GL4a",
   "provenance": [
    {
     "file_id": "1hxVh8H8XMtyb721GXVmS76b4zg2YKTiO",
     "timestamp": 1673896290183
    }
   ]
  },
  "kernelspec": {
   "display_name": "Python 3 (ipykernel)",
   "language": "python",
   "name": "python3"
  },
  "language_info": {
   "codemirror_mode": {
    "name": "ipython",
    "version": 3
   },
   "file_extension": ".py",
   "mimetype": "text/x-python",
   "name": "python",
   "nbconvert_exporter": "python",
   "pygments_lexer": "ipython3",
   "version": "3.9.13"
  }
 },
 "nbformat": 4,
 "nbformat_minor": 1
}
