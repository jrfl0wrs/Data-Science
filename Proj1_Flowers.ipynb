{
  "nbformat": 4,
  "nbformat_minor": 0,
  "metadata": {
    "colab": {
      "provenance": [],
      "toc_visible": true
    },
    "kernelspec": {
      "name": "python3",
      "display_name": "Python 3"
    },
    "language_info": {
      "name": "python"
    }
  },
  "cells": [
    {
      "cell_type": "code",
      "execution_count": 45,
      "metadata": {
        "colab": {
          "base_uri": "https://localhost:8080/"
        },
        "id": "DUndd0n_OcbD",
        "outputId": "37ca7388-a5a2-467a-df16-36b149029670"
      },
      "outputs": [
        {
          "output_type": "stream",
          "name": "stdout",
          "text": [
            "<class 'pandas.core.frame.DataFrame'>\n",
            "RangeIndex: 344 entries, 0 to 343\n",
            "Data columns (total 7 columns):\n",
            " #   Column             Non-Null Count  Dtype  \n",
            "---  ------             --------------  -----  \n",
            " 0   species            344 non-null    object \n",
            " 1   island             344 non-null    object \n",
            " 2   bill_length_mm     342 non-null    float64\n",
            " 3   bill_depth_mm      342 non-null    float64\n",
            " 4   flipper_length_mm  342 non-null    float64\n",
            " 5   body_mass_g        342 non-null    float64\n",
            " 6   sex                333 non-null    object \n",
            "dtypes: float64(4), object(3)\n",
            "memory usage: 18.9+ KB\n"
          ]
        }
      ],
      "source": [
        "import numpy as np\n",
        "import pandas as pd\n",
        "import seaborn as sns\n",
        "\n",
        "df = sns.load_dataset(\"penguins\")\n",
        "df.info()\n",
        "#get info on dataframe"
      ]
    },
    {
      "cell_type": "code",
      "source": [
        "#begin data clean\n",
        "mode=df[\"sex\"].mode()\n",
        "df[\"sex\"].fillna(mode, inplace =True)"
      ],
      "metadata": {
        "id": "fG7zyRZgrHHZ"
      },
      "execution_count": 46,
      "outputs": []
    },
    {
      "cell_type": "code",
      "source": [
        "newdata=df.dropna()"
      ],
      "metadata": {
        "id": "gtnfHoVjrRW2"
      },
      "execution_count": 47,
      "outputs": []
    },
    {
      "cell_type": "code",
      "source": [
        "newdata.isnull().sum()\n",
        "#finished data clean"
      ],
      "metadata": {
        "colab": {
          "base_uri": "https://localhost:8080/"
        },
        "id": "LnvdJaSbraYH",
        "outputId": "d79ba8d4-0282-49e6-def2-08059496de4f"
      },
      "execution_count": 48,
      "outputs": [
        {
          "output_type": "execute_result",
          "data": {
            "text/plain": [
              "species              0\n",
              "island               0\n",
              "bill_length_mm       0\n",
              "bill_depth_mm        0\n",
              "flipper_length_mm    0\n",
              "body_mass_g          0\n",
              "sex                  0\n",
              "dtype: int64"
            ]
          },
          "metadata": {},
          "execution_count": 48
        }
      ]
    },
    {
      "cell_type": "code",
      "source": [
        "print(newdata)\n",
        "df = newdata\n",
        "#Printed version of the DATAFRAME"
      ],
      "metadata": {
        "colab": {
          "base_uri": "https://localhost:8080/"
        },
        "id": "OWs7oAcOrw3v",
        "outputId": "03cd52a5-bd20-4b2e-b478-71e79a5c8258"
      },
      "execution_count": 55,
      "outputs": [
        {
          "output_type": "stream",
          "name": "stdout",
          "text": [
            "    species     island  bill_length_mm  bill_depth_mm  flipper_length_mm  \\\n",
            "0    Adelie  Torgersen            39.1           18.7              181.0   \n",
            "1    Adelie  Torgersen            39.5           17.4              186.0   \n",
            "2    Adelie  Torgersen            40.3           18.0              195.0   \n",
            "4    Adelie  Torgersen            36.7           19.3              193.0   \n",
            "5    Adelie  Torgersen            39.3           20.6              190.0   \n",
            "..      ...        ...             ...            ...                ...   \n",
            "338  Gentoo     Biscoe            47.2           13.7              214.0   \n",
            "340  Gentoo     Biscoe            46.8           14.3              215.0   \n",
            "341  Gentoo     Biscoe            50.4           15.7              222.0   \n",
            "342  Gentoo     Biscoe            45.2           14.8              212.0   \n",
            "343  Gentoo     Biscoe            49.9           16.1              213.0   \n",
            "\n",
            "     body_mass_g     sex  \n",
            "0         3750.0    Male  \n",
            "1         3800.0  Female  \n",
            "2         3250.0  Female  \n",
            "4         3450.0  Female  \n",
            "5         3650.0    Male  \n",
            "..           ...     ...  \n",
            "338       4925.0  Female  \n",
            "340       4850.0  Female  \n",
            "341       5750.0    Male  \n",
            "342       5200.0  Female  \n",
            "343       5400.0    Male  \n",
            "\n",
            "[333 rows x 7 columns]\n"
          ]
        }
      ]
    },
    {
      "cell_type": "markdown",
      "source": [
        "\n",
        "\n",
        "```\n",
        "Jamar Flowers\n",
        "INTRO TO DATA SCIENCE\n",
        "\n",
        "```\n",
        "# **PENGUIN REPORT BEGINS HERE:**\n",
        "\n"
      ],
      "metadata": {
        "id": "X5GTGPMDOidO"
      }
    },
    {
      "cell_type": "markdown",
      "source": [
        "# **Number of Penguins, By Island:**\n",
        "\n"
      ],
      "metadata": {
        "id": "UJ3fe4yd0DUU"
      }
    },
    {
      "cell_type": "code",
      "source": [
        "# Show Python code in the following code box which lists the number of penguins, broken down by island\n",
        "print(df.groupby(\"island\")[\"species\"].value_counts())"
      ],
      "metadata": {
        "id": "aFdgjNur0V3w",
        "colab": {
          "base_uri": "https://localhost:8080/"
        },
        "outputId": "24d40b90-41af-402e-d6be-19d286876be6"
      },
      "execution_count": 91,
      "outputs": [
        {
          "output_type": "stream",
          "name": "stdout",
          "text": [
            "island     species  \n",
            "Biscoe     Gentoo       119\n",
            "           Adelie        44\n",
            "Dream      Chinstrap     68\n",
            "           Adelie        55\n",
            "Torgersen  Adelie        47\n",
            "Name: species, dtype: int64\n"
          ]
        }
      ]
    },
    {
      "cell_type": "markdown",
      "source": [
        "# **Number of Penguins, By Species and Sex:**"
      ],
      "metadata": {
        "id": "gc-EG7-r05Mp"
      }
    },
    {
      "cell_type": "code",
      "source": [
        "#Show Python code which lists the number of penguins, broken down by species and sex\n",
        "print(df.groupby(\"species\")[\"sex\"].value_counts())"
      ],
      "metadata": {
        "id": "YMFVsfWx1B8e",
        "colab": {
          "base_uri": "https://localhost:8080/"
        },
        "outputId": "eb9a5e32-7763-4fb3-8e30-4534fd6a41cf"
      },
      "execution_count": 65,
      "outputs": [
        {
          "output_type": "stream",
          "name": "stdout",
          "text": [
            "species    sex   \n",
            "Adelie     Female    73\n",
            "           Male      73\n",
            "Chinstrap  Female    34\n",
            "           Male      34\n",
            "Gentoo     Male      61\n",
            "           Female    58\n",
            "Name: sex, dtype: int64\n"
          ]
        }
      ]
    },
    {
      "cell_type": "markdown",
      "source": [
        "# **Mean Mass of All Penguins**"
      ],
      "metadata": {
        "id": "7Hov9fa02t3P"
      }
    },
    {
      "cell_type": "code",
      "source": [
        "# lists the mean mass of all of the penguins. Don't use describe().\n",
        "print(\"The Mean of all penguin bodymass:\")\n",
        "print(df.body_mass_g.mean())"
      ],
      "metadata": {
        "colab": {
          "base_uri": "https://localhost:8080/"
        },
        "id": "WWBvzUzJ2UdX",
        "outputId": "899416b9-e5ca-4043-b304-e82ee1d248c2"
      },
      "execution_count": 92,
      "outputs": [
        {
          "output_type": "stream",
          "name": "stdout",
          "text": [
            "The Mean of all penguin bodymass:\n",
            "4207.057057057057\n"
          ]
        }
      ]
    },
    {
      "cell_type": "code",
      "source": [
        "# Also did Min,Max,Median\n",
        "print(\"The Minimum of all penguin bodymass:\")\n",
        "print(df.body_mass_g.min())\n",
        "print(\"The Maximum of all penguin bodymass:\")\n",
        "print(df.body_mass_g.max())\n",
        "print(\"The Median of all penguin bodymass:\")\n",
        "print(df.body_mass_g.median())\n"
      ],
      "metadata": {
        "colab": {
          "base_uri": "https://localhost:8080/"
        },
        "id": "ssE4y1YPgB4A",
        "outputId": "b0caaf70-49d4-4aa7-e3ff-f8083f8f9de9"
      },
      "execution_count": 93,
      "outputs": [
        {
          "output_type": "stream",
          "name": "stdout",
          "text": [
            "The Minimum of all penguin bodymass:\n",
            "2700.0\n",
            "The Maximum of all penguin bodymass:\n",
            "6300.0\n",
            "The Median of all penguin bodymass:\n",
            "4050.0\n"
          ]
        }
      ]
    },
    {
      "cell_type": "markdown",
      "source": [
        "# **Mean Mass using describe()**"
      ],
      "metadata": {
        "id": "SiAv_tyAx-05"
      }
    },
    {
      "cell_type": "code",
      "source": [
        "#use .describe()\n",
        "df.body_mass_g.describe()"
      ],
      "metadata": {
        "colab": {
          "base_uri": "https://localhost:8080/"
        },
        "id": "9SnkUAVl2KBI",
        "outputId": "b4f0934b-913d-4768-b896-081c65cdb591"
      },
      "execution_count": 59,
      "outputs": [
        {
          "output_type": "execute_result",
          "data": {
            "text/plain": [
              "count     333.000000\n",
              "mean     4207.057057\n",
              "std       805.215802\n",
              "min      2700.000000\n",
              "25%      3550.000000\n",
              "50%      4050.000000\n",
              "75%      4775.000000\n",
              "max      6300.000000\n",
              "Name: body_mass_g, dtype: float64"
            ]
          },
          "metadata": {},
          "execution_count": 59
        }
      ]
    },
    {
      "cell_type": "markdown",
      "source": [
        "# **Mean Median Maximum Minium by Species**"
      ],
      "metadata": {
        "id": "6o44bb7x0V-K"
      }
    },
    {
      "cell_type": "code",
      "source": [
        "#prints minimum, median, mean and maximum broken down by the species:\n",
        "species_mean = df.groupby(['species']).describe()\n",
        "print(species_mean.body_mass_g)"
      ],
      "metadata": {
        "colab": {
          "base_uri": "https://localhost:8080/"
        },
        "id": "eBD4oQvdvUGU",
        "outputId": "cd955aad-cb20-4803-f9ae-1b92f76f47a4"
      },
      "execution_count": 99,
      "outputs": [
        {
          "output_type": "stream",
          "name": "stdout",
          "text": [
            "           count         mean         std     min     25%     50%     75%  \\\n",
            "species                                                                     \n",
            "Adelie     146.0  3706.164384  458.620135  2850.0  3362.5  3700.0  4000.0   \n",
            "Chinstrap   68.0  3733.088235  384.335081  2700.0  3487.5  3700.0  3950.0   \n",
            "Gentoo     119.0  5092.436975  501.476154  3950.0  4700.0  5050.0  5500.0   \n",
            "\n",
            "              max  \n",
            "species            \n",
            "Adelie     4775.0  \n",
            "Chinstrap  4800.0  \n",
            "Gentoo     6300.0  \n"
          ]
        }
      ]
    },
    {
      "cell_type": "code",
      "source": [
        "#median of all penguin species\n",
        "print(\"Median for all of the penguin species:\")\n",
        "print(df.groupby(['species']).body_mass_g.median())\n"
      ],
      "metadata": {
        "colab": {
          "base_uri": "https://localhost:8080/"
        },
        "id": "hrQWtVLT3Mgu",
        "outputId": "4d296499-05d2-41d2-c610-3ad753f381e3"
      },
      "execution_count": 98,
      "outputs": [
        {
          "output_type": "stream",
          "name": "stdout",
          "text": [
            "Median for all of the penguin species:\n",
            "species\n",
            "Adelie       3700.0\n",
            "Chinstrap    3700.0\n",
            "Gentoo       5050.0\n",
            "Name: body_mass_g, dtype: float64\n"
          ]
        }
      ]
    },
    {
      "cell_type": "markdown",
      "source": [
        "# **List Sorted By Minimum Weight In Ascending Order**"
      ],
      "metadata": {
        "id": "q5BDBPRv01XZ"
      }
    },
    {
      "cell_type": "code",
      "source": [
        "#Repeat the above, but sort the list by the minimum weight in ascending order.\n",
        "species_mean_asc = species_mean.body_mass_g.sort_values(\"min\")\n",
        "print(species_mean_asc)"
      ],
      "metadata": {
        "colab": {
          "base_uri": "https://localhost:8080/"
        },
        "id": "63fKjvmUw4bs",
        "outputId": "46424486-13cb-42a3-d0cf-df166c438e64"
      },
      "execution_count": 88,
      "outputs": [
        {
          "output_type": "stream",
          "name": "stdout",
          "text": [
            "           count         mean         std     min     25%     50%     75%  \\\n",
            "species                                                                     \n",
            "Chinstrap   68.0  3733.088235  384.335081  2700.0  3487.5  3700.0  3950.0   \n",
            "Adelie     146.0  3706.164384  458.620135  2850.0  3362.5  3700.0  4000.0   \n",
            "Gentoo     119.0  5092.436975  501.476154  3950.0  4700.0  5050.0  5500.0   \n",
            "\n",
            "              max  \n",
            "species            \n",
            "Chinstrap  4800.0  \n",
            "Adelie     4775.0  \n",
            "Gentoo     6300.0  \n"
          ]
        }
      ]
    },
    {
      "cell_type": "markdown",
      "source": [
        "# **Ascending Order BodyMass**"
      ],
      "metadata": {
        "id": "bmKjdco5oH0z"
      }
    },
    {
      "cell_type": "code",
      "source": [
        "apenguin_mass = df.sort_values(\"body_mass_g\")\n",
        "print(\"Ascending Order:\")\n",
        "print(apenguin_mass.body_mass_g)\n",
        "print(\" --------------------------------------------------------------------------\")\n"
      ],
      "metadata": {
        "colab": {
          "base_uri": "https://localhost:8080/"
        },
        "id": "iiR2LljyjffK",
        "outputId": "c64ad3e0-d09f-4596-bcd7-fa3d77607dd8"
      },
      "execution_count": 60,
      "outputs": [
        {
          "output_type": "stream",
          "name": "stdout",
          "text": [
            "Ascending Order:\n",
            "190    2700.0\n",
            "64     2850.0\n",
            "58     2850.0\n",
            "116    2900.0\n",
            "98     2900.0\n",
            "        ...  \n",
            "299    5950.0\n",
            "337    6000.0\n",
            "297    6000.0\n",
            "253    6050.0\n",
            "237    6300.0\n",
            "Name: body_mass_g, Length: 333, dtype: float64\n",
            " --------------------------------------------------------------------------\n"
          ]
        }
      ]
    },
    {
      "cell_type": "markdown",
      "source": [
        "# **Ascending Order BodyMass (FULLCHART)**"
      ],
      "metadata": {
        "id": "yz5srLR2omo7"
      }
    },
    {
      "cell_type": "code",
      "source": [
        "print(apenguin_mass)"
      ],
      "metadata": {
        "colab": {
          "base_uri": "https://localhost:8080/"
        },
        "id": "ZQsE0Ku2oXlI",
        "outputId": "0927181e-3716-4dc4-fd6f-7ac00dbcac80"
      },
      "execution_count": 61,
      "outputs": [
        {
          "output_type": "stream",
          "name": "stdout",
          "text": [
            "       species     island  bill_length_mm  bill_depth_mm  flipper_length_mm  \\\n",
            "190  Chinstrap      Dream            46.9           16.6              192.0   \n",
            "64      Adelie     Biscoe            36.4           17.1              184.0   \n",
            "58      Adelie     Biscoe            36.5           16.6              181.0   \n",
            "116     Adelie  Torgersen            38.6           17.0              188.0   \n",
            "98      Adelie      Dream            33.1           16.1              178.0   \n",
            "..         ...        ...             ...            ...                ...   \n",
            "299     Gentoo     Biscoe            45.2           16.4              223.0   \n",
            "337     Gentoo     Biscoe            48.8           16.2              222.0   \n",
            "297     Gentoo     Biscoe            51.1           16.3              220.0   \n",
            "253     Gentoo     Biscoe            59.6           17.0              230.0   \n",
            "237     Gentoo     Biscoe            49.2           15.2              221.0   \n",
            "\n",
            "     body_mass_g     sex  \n",
            "190       2700.0  Female  \n",
            "64        2850.0  Female  \n",
            "58        2850.0  Female  \n",
            "116       2900.0  Female  \n",
            "98        2900.0  Female  \n",
            "..           ...     ...  \n",
            "299       5950.0    Male  \n",
            "337       6000.0    Male  \n",
            "297       6000.0    Male  \n",
            "253       6050.0    Male  \n",
            "237       6300.0    Male  \n",
            "\n",
            "[333 rows x 7 columns]\n"
          ]
        }
      ]
    },
    {
      "cell_type": "markdown",
      "source": [
        "# **Decending Order BodyMass**"
      ],
      "metadata": {
        "id": "4vVvpKnIof34"
      }
    },
    {
      "cell_type": "code",
      "source": [
        "dpenguin_mass = df.sort_values(by=\"body_mass_g\",ascending=False)\n",
        "print(\"Descending Order Bodymass:\")\n",
        "print(dpenguin_mass.body_mass_g)\n",
        "print(\" --------------------------------------------------------------------------\")"
      ],
      "metadata": {
        "colab": {
          "base_uri": "https://localhost:8080/"
        },
        "id": "e1c_2LWfh4eZ",
        "outputId": "a7a2e026-64a9-40a3-90d5-6081e2a8747e"
      },
      "execution_count": 62,
      "outputs": [
        {
          "output_type": "stream",
          "name": "stdout",
          "text": [
            "Descending Order Bodymass:\n",
            "237    6300.0\n",
            "253    6050.0\n",
            "297    6000.0\n",
            "337    6000.0\n",
            "299    5950.0\n",
            "        ...  \n",
            "98     2900.0\n",
            "54     2900.0\n",
            "58     2850.0\n",
            "64     2850.0\n",
            "190    2700.0\n",
            "Name: body_mass_g, Length: 333, dtype: float64\n",
            " --------------------------------------------------------------------------\n"
          ]
        }
      ]
    },
    {
      "cell_type": "markdown",
      "source": [
        "# **Descending BodyMass (FULLCHART)**"
      ],
      "metadata": {
        "id": "zZS7EUCcnu2R"
      }
    },
    {
      "cell_type": "code",
      "source": [
        "print(dpenguin_mass)"
      ],
      "metadata": {
        "colab": {
          "base_uri": "https://localhost:8080/"
        },
        "id": "ynxOEywdn5Ef",
        "outputId": "48bc8d54-9416-427c-c294-4147094266db"
      },
      "execution_count": 63,
      "outputs": [
        {
          "output_type": "stream",
          "name": "stdout",
          "text": [
            "       species  island  bill_length_mm  bill_depth_mm  flipper_length_mm  \\\n",
            "237     Gentoo  Biscoe            49.2           15.2              221.0   \n",
            "253     Gentoo  Biscoe            59.6           17.0              230.0   \n",
            "297     Gentoo  Biscoe            51.1           16.3              220.0   \n",
            "337     Gentoo  Biscoe            48.8           16.2              222.0   \n",
            "299     Gentoo  Biscoe            45.2           16.4              223.0   \n",
            "..         ...     ...             ...            ...                ...   \n",
            "98      Adelie   Dream            33.1           16.1              178.0   \n",
            "54      Adelie  Biscoe            34.5           18.1              187.0   \n",
            "58      Adelie  Biscoe            36.5           16.6              181.0   \n",
            "64      Adelie  Biscoe            36.4           17.1              184.0   \n",
            "190  Chinstrap   Dream            46.9           16.6              192.0   \n",
            "\n",
            "     body_mass_g     sex  \n",
            "237       6300.0    Male  \n",
            "253       6050.0    Male  \n",
            "297       6000.0    Male  \n",
            "337       6000.0    Male  \n",
            "299       5950.0    Male  \n",
            "..           ...     ...  \n",
            "98        2900.0  Female  \n",
            "54        2900.0  Female  \n",
            "58        2850.0  Female  \n",
            "64        2850.0  Female  \n",
            "190       2700.0  Female  \n",
            "\n",
            "[333 rows x 7 columns]\n"
          ]
        }
      ]
    }
  ]
}